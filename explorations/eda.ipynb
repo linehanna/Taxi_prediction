{
 "cells": [
  {
   "cell_type": "markdown",
   "id": "98cd0174",
   "metadata": {},
   "source": [
    "# Tree\n",
    " find . -type d \\ \n",
    "  -not -path \"*/.git*\" \\\n",
    "  -not -path \"*/.venv*\" \\\n",
    "  -not -path \"*/__pycache__*\" \\\n",
    "  -not -path \"*/distutils_hack*\" \\\n",
    "  | sed -e 's;[^/]*/;|____;g;s;____|; |;g'"
   ]
  }
 ],
 "metadata": {
  "kernelspec": {
   "display_name": "Python 3",
   "language": "python",
   "name": "python3"
  },
  "language_info": {
   "name": "python",
   "version": "3.11.9"
  }
 },
 "nbformat": 4,
 "nbformat_minor": 5
}
